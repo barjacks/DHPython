{
 "cells": [
  {
   "cell_type": "markdown",
   "metadata": {},
   "source": [
    "# Introduction"
   ]
  },
  {
   "cell_type": "markdown",
   "metadata": {},
   "source": [
    "In this workshop Python V, we'll be scraping the work of the late Daphne Caruana Galizia, unless somebody else has a website they desparately would like to scrape. In that case, we'll look at that. What we'll be looking at in depth is the a technique to basically scrape any website that doesn't need interaction. As soon as interaction comes into play, things will get a lot more complicated.\n",
    "\n",
    "[BeautifulSoup Documentation](https://www.crummy.com/software/BeautifulSoup/bs4/doc/)"
   ]
  },
  {
   "cell_type": "markdown",
   "metadata": {},
   "source": [
    "# Imports"
   ]
  },
  {
   "cell_type": "markdown",
   "metadata": {},
   "source": [
    "First of all, we'll import the modules and libraries we'll be needing. "
   ]
  },
  {
   "cell_type": "code",
   "execution_count": 1,
   "metadata": {
    "collapsed": true
   },
   "outputs": [],
   "source": [
    "from bs4 import BeautifulSoup\n",
    "#This lets us parse the information we need from the website we are visiting.\n",
    "import requests\n",
    "#This lets us visit any URL automatically.\n",
    "import pandas as pd\n",
    "#We'll use Pandas to store the data we have scraped"
   ]
  },
  {
   "cell_type": "markdown",
   "metadata": {},
   "source": [
    "# Strategy - how do you want to proceed?\n",
    "\n",
    "1. Pull out all the URLs including the date\n",
    "2. Use a list of them to visit every URL\n",
    "3. Use each and every URL to pull out the text"
   ]
  },
  {
   "cell_type": "markdown",
   "metadata": {},
   "source": [
    "# Set up"
   ]
  },
  {
   "cell_type": "code",
   "execution_count": 2,
   "metadata": {
    "collapsed": true
   },
   "outputs": [],
   "source": [
    "# Let's get started: scrape main page\n",
    "url = \"https://daphnecaruanagalizia.com\"\n",
    "response = requests.get(url)\n",
    "daphne = BeautifulSoup(response.text, 'html.parser')"
   ]
  },
  {
   "cell_type": "markdown",
   "metadata": {},
   "source": [
    "# Find, Find All & .text"
   ]
  },
  {
   "cell_type": "markdown",
   "metadata": {},
   "source": [
    "First, lets take a look at [Googles Developer Tools](https://developer.chrome.com/devtools) (I hope you're using Google Chrome). We'll use the developer tools to get the structural information of the site."
   ]
  },
  {
   "cell_type": "code",
   "execution_count": 4,
   "metadata": {
    "collapsed": true
   },
   "outputs": [],
   "source": [
    "# Looking for the first post on the page\n",
    "post = daphne.find(\"div\", class_=\"postmaster\")"
   ]
  },
  {
   "cell_type": "code",
   "execution_count": 5,
   "metadata": {},
   "outputs": [
    {
     "data": {
      "text/plain": [
       "<div class=\"postmaster\" data-postid=\"97964\">\n",
       "<p class=\"column-caption\"></p>\n",
       "<div class=\"post\">\n",
       "<h1><a href=\"https://daphnecaruanagalizia.com/2017/10/first-things-first-something-horrendous-posture/\" rel=\"bookmark\" title=\"Permanent Link to First things first: do something about that horrendous posture\">\n",
       "First things first: do something about that horrendous posture </a>\n",
       "</h1>\n",
       "<div class=\"entry\">\n",
       "<p>\n",
       "You can wear the flashiest watch and keep your snazzy shirt-cuff turned up to make …</p>\n",
       "</div>\n",
       "<p class=\"postmetadata\"><a href=\"https://daphnecaruanagalizia.com/2017/10/first-things-first-something-horrendous-posture/#respond\">Post a comment</a> | <a href=\"https://daphnecaruanagalizia.com/2017/10/first-things-first-something-horrendous-posture/#comments\"><span class=\"dsq-postid\" data-dsqidentifier=\"97964 https://daphnecaruanagalizia.com/?p=97964\">Read (4)</span></a> | <span class=\"time\">Monday, 16 October 2:09 pm</span></p>\n",
       "</div>\n",
       "</div>"
      ]
     },
     "execution_count": 5,
     "metadata": {},
     "output_type": "execute_result"
    }
   ],
   "source": [
    "post"
   ]
  },
  {
   "cell_type": "code",
   "execution_count": 6,
   "metadata": {
    "collapsed": true
   },
   "outputs": [],
   "source": [
    "#Looking for all the posts on the page\n",
    "posts = daphne.find_all(\"div\", class_=\"postmaster\")"
   ]
  },
  {
   "cell_type": "code",
   "execution_count": 7,
   "metadata": {},
   "outputs": [
    {
     "data": {
      "text/plain": [
       "[<div class=\"postmaster\" data-postid=\"97964\">\n",
       " <p class=\"column-caption\"></p>\n",
       " <div class=\"post\">\n",
       " <h1><a href=\"https://daphnecaruanagalizia.com/2017/10/first-things-first-something-horrendous-posture/\" rel=\"bookmark\" title=\"Permanent Link to First things first: do something about that horrendous posture\">\n",
       " First things first: do something about that horrendous posture </a>\n",
       " </h1>\n",
       " <div class=\"entry\">\n",
       " <p>\n",
       " You can wear the flashiest watch and keep your snazzy shirt-cuff turned up to make …</p>\n",
       " </div>\n",
       " <p class=\"postmetadata\"><a href=\"https://daphnecaruanagalizia.com/2017/10/first-things-first-something-horrendous-posture/#respond\">Post a comment</a> | <a href=\"https://daphnecaruanagalizia.com/2017/10/first-things-first-something-horrendous-posture/#comments\"><span class=\"dsq-postid\" data-dsqidentifier=\"97964 https://daphnecaruanagalizia.com/?p=97964\">Read (4)</span></a> | <span class=\"time\">Monday, 16 October 2:09 pm</span></p>\n",
       " </div>\n",
       " </div>, <div class=\"postmaster\" data-postid=\"97961\">\n",
       " <p class=\"column-caption\"></p>\n",
       " <div class=\"post\">\n",
       " <h1><a href=\"https://daphnecaruanagalizia.com/2017/10/austrias-new-chancellor-31-will-form-coalition-neo-nazi/\" rel=\"bookmark\" title=\"Permanent Link to Austria’s new chancellor is 31 – and will have to form a coalition with a neo-Nazi\">\n",
       " Austria’s new chancellor is 31 – and will have to form a coalition with a neo-Nazi </a>\n",
       " </h1>\n",
       " <div class=\"entry\">\n",
       " <p>\n",
       " Exit polls show that Sebastian Kurz, 31, is about to become Austria’s new chancellor and …</p>\n",
       " </div>\n",
       " <p class=\"postmetadata\"><a href=\"https://daphnecaruanagalizia.com/2017/10/austrias-new-chancellor-31-will-form-coalition-neo-nazi/#respond\">Post a comment</a> | <a href=\"https://daphnecaruanagalizia.com/2017/10/austrias-new-chancellor-31-will-form-coalition-neo-nazi/#comments\"><span class=\"dsq-postid\" data-dsqidentifier=\"97961 https://daphnecaruanagalizia.com/?p=97961\">Read (18)</span></a> | <span class=\"time\">Sunday, 15 October 10:07 pm</span></p>\n",
       " </div>\n",
       " </div>, <div class=\"postmaster\" data-postid=\"97958\">\n",
       " <p class=\"column-caption\"></p>\n",
       " <div class=\"post\">\n",
       " <h1><a href=\"https://daphnecaruanagalizia.com/2017/10/party-leaders-sunday-morning/\" rel=\"bookmark\" title=\"Permanent Link to The party leaders and Sunday morning\">\n",
       " The party leaders and Sunday morning </a>\n",
       " </h1>\n",
       " <div class=\"entry\">\n",
       " <p>\n",
       " Is it going to be a five-year electoral campaign now, or what? I was in …</p>\n",
       " </div>\n",
       " <p class=\"postmetadata\"><a href=\"https://daphnecaruanagalizia.com/2017/10/party-leaders-sunday-morning/#respond\">Post a comment</a> | <a href=\"https://daphnecaruanagalizia.com/2017/10/party-leaders-sunday-morning/#comments\"><span class=\"dsq-postid\" data-dsqidentifier=\"97958 https://daphnecaruanagalizia.com/?p=97958\">Read (33)</span></a> | <span class=\"time\">Sunday, 15 October 7:26 pm</span></p>\n",
       " </div>\n",
       " </div>, <div class=\"postmaster\" data-postid=\"97955\">\n",
       " <p class=\"column-caption\"></p>\n",
       " <div class=\"post\">\n",
       " <h1><a href=\"https://daphnecaruanagalizia.com/2017/10/looks-like-delia-surrounding-like-minded-individuals/\" rel=\"bookmark\" title=\"Permanent Link to Looks like Delia is surrounding himself with like-minded individuals\">\n",
       " Looks like Delia is surrounding himself with like-minded individuals </a>\n",
       " </h1>\n",
       " <div class=\"entry\">\n",
       " <p>\n",
       " The disgraceful thing is that this man has been Nationalist Party whip in parliament for …</p>\n",
       " </div>\n",
       " <p class=\"postmetadata\"><a href=\"https://daphnecaruanagalizia.com/2017/10/looks-like-delia-surrounding-like-minded-individuals/#respond\">Post a comment</a> | <a href=\"https://daphnecaruanagalizia.com/2017/10/looks-like-delia-surrounding-like-minded-individuals/#comments\"><span class=\"dsq-postid\" data-dsqidentifier=\"97955 https://daphnecaruanagalizia.com/?p=97955\">Read (9)</span></a> | <span class=\"time\">Saturday, 14 October 12:52 am</span></p>\n",
       " </div>\n",
       " </div>, <div class=\"postmaster\" data-postid=\"97952\">\n",
       " <p class=\"column-caption\"></p>\n",
       " <div class=\"post\">\n",
       " <h1><a href=\"https://daphnecaruanagalizia.com/2017/10/chris-cardona-one-track-mind/\" rel=\"bookmark\" title=\"Permanent Link to Chris Cardona: a one-track mind\">\n",
       " Chris Cardona: a one-track mind </a>\n",
       " </h1>\n",
       " <div class=\"entry\">\n",
       " <p>\n",
       " “I don’t recall any other budget having given so much pleasure.”\n",
       " …</p>\n",
       " </div>\n",
       " <p class=\"postmetadata\"><a href=\"https://daphnecaruanagalizia.com/2017/10/chris-cardona-one-track-mind/#respond\">Post a comment</a> | <a href=\"https://daphnecaruanagalizia.com/2017/10/chris-cardona-one-track-mind/#comments\"><span class=\"dsq-postid\" data-dsqidentifier=\"97952 https://daphnecaruanagalizia.com/?p=97952\">Read (8)</span></a> | <span class=\"time\">Saturday, 14 October 12:26 am</span></p>\n",
       " </div>\n",
       " </div>, <div class=\"postmaster\" data-postid=\"97943\">\n",
       " <p class=\"column-caption\"></p>\n",
       " <div class=\"post\">\n",
       " <h1><a href=\"https://daphnecaruanagalizia.com/2017/10/david-thake-subject-adrian-delia/\" rel=\"bookmark\" title=\"Permanent Link to David Thake on the subject of Adrian Delia\">\n",
       " David Thake on the subject of Adrian Delia </a>\n",
       " </h1>\n",
       " <div class=\"entry\">\n",
       " <p>\n",
       " …</p>\n",
       " </div>\n",
       " <p class=\"postmetadata\"><a href=\"https://daphnecaruanagalizia.com/2017/10/david-thake-subject-adrian-delia/#respond\">Post a comment</a> | <a href=\"https://daphnecaruanagalizia.com/2017/10/david-thake-subject-adrian-delia/#comments\"><span class=\"dsq-postid\" data-dsqidentifier=\"97943 https://daphnecaruanagalizia.com/?p=97943\">Read (17)</span></a> | <span class=\"time\">Friday, 13 October 11:20 pm</span></p>\n",
       " </div>\n",
       " </div>, <div class=\"postmaster\" data-postid=\"97940\">\n",
       " <p class=\"column-caption\"></p>\n",
       " <div class=\"post\">\n",
       " <h1><a href=\"https://daphnecaruanagalizia.com/2017/10/not-blinded-little-intelligence-much-personal-ambition-reality/\" rel=\"bookmark\" title=\"Permanent Link to To all those who are not blinded by too little intelligence or too much personal ambition, this is the reality\">\n",
       " To all those who are not blinded by too little intelligence or too much personal ambition, this is the reality </a>\n",
       " </h1>\n",
       " <div class=\"entry\">\n",
       " <p>\n",
       " I mean, really\n",
       " …</p>\n",
       " </div>\n",
       " <p class=\"postmetadata\"><a href=\"https://daphnecaruanagalizia.com/2017/10/not-blinded-little-intelligence-much-personal-ambition-reality/#respond\">Post a comment</a> | <a href=\"https://daphnecaruanagalizia.com/2017/10/not-blinded-little-intelligence-much-personal-ambition-reality/#comments\"><span class=\"dsq-postid\" data-dsqidentifier=\"97940 https://daphnecaruanagalizia.com/?p=97940\">Read (4)</span></a> | <span class=\"time\">Friday, 13 October 6:29 pm</span></p>\n",
       " </div>\n",
       " </div>, <div class=\"postmaster\" data-postid=\"97937\">\n",
       " <p class=\"column-caption\"></p>\n",
       " <div class=\"post\">\n",
       " <h1><a href=\"https://daphnecaruanagalizia.com/2017/10/toni-bezzina-throws-hat-ring-two-minutes-deadline/\" rel=\"bookmark\" title=\"Permanent Link to Toni Bezzina throws hat into the ring two minutes before deadline\">\n",
       " Toni Bezzina throws hat into the ring two minutes before deadline </a>\n",
       " </h1>\n",
       " <div class=\"entry\">\n",
       " <p>\n",
       " Toni Bezzina, the member of parliament, entered the contest to become the Nationalist Party’s deputy …</p>\n",
       " </div>\n",
       " <p class=\"postmetadata\"><a href=\"https://daphnecaruanagalizia.com/2017/10/toni-bezzina-throws-hat-ring-two-minutes-deadline/#respond\">Post a comment</a> | <a href=\"https://daphnecaruanagalizia.com/2017/10/toni-bezzina-throws-hat-ring-two-minutes-deadline/#comments\"><span class=\"dsq-postid\" data-dsqidentifier=\"97937 https://daphnecaruanagalizia.com/?p=97937\">Read (8)</span></a> | <span class=\"time\">Friday, 13 October 6:19 pm</span></p>\n",
       " </div>\n",
       " </div>, <div class=\"postmaster\" data-postid=\"97933\">\n",
       " <p class=\"column-caption\"></p>\n",
       " <div class=\"post\">\n",
       " <h1><a href=\"https://daphnecaruanagalizia.com/2017/10/chris-said-just-made-public-statement-deputy-leadership-election/\" rel=\"bookmark\" title=\"Permanent Link to Chris Said has just made a public statement about the deputy leadership election\">\n",
       " Chris Said has just made a public statement about the deputy leadership election </a>\n",
       " </h1>\n",
       " <div class=\"entry\">\n",
       " <p>\n",
       " …</p>\n",
       " </div>\n",
       " <p class=\"postmetadata\"><a href=\"https://daphnecaruanagalizia.com/2017/10/chris-said-just-made-public-statement-deputy-leadership-election/#respond\">Post a comment</a> | <a href=\"https://daphnecaruanagalizia.com/2017/10/chris-said-just-made-public-statement-deputy-leadership-election/#comments\"><span class=\"dsq-postid\" data-dsqidentifier=\"97933 https://daphnecaruanagalizia.com/?p=97933\">Read (9)</span></a> | <span class=\"time\">Friday, 13 October 5:22 pm</span></p>\n",
       " </div>\n",
       " </div>, <div class=\"postmaster\" data-postid=\"97926\">\n",
       " <p class=\"column-caption\"></p>\n",
       " <div class=\"post\">\n",
       " <h1><a href=\"https://daphnecaruanagalizia.com/2017/10/chris-said-says-will-not-stand-election-nationalist-party-deputy-leader/\" rel=\"bookmark\" title=\"Permanent Link to Chris Said says he will not stand for election as Nationalist Party deputy leader\">\n",
       " Chris Said says he will not stand for election as Nationalist Party deputy leader </a>\n",
       " </h1>\n",
       " <div class=\"entry\">\n",
       " <p>\n",
       " David Agius today came forward officially as a contender for the election of the Nationalist …</p>\n",
       " </div>\n",
       " <p class=\"postmetadata\"><a href=\"https://daphnecaruanagalizia.com/2017/10/chris-said-says-will-not-stand-election-nationalist-party-deputy-leader/#respond\">Post a comment</a> | <a href=\"https://daphnecaruanagalizia.com/2017/10/chris-said-says-will-not-stand-election-nationalist-party-deputy-leader/#comments\"><span class=\"dsq-postid\" data-dsqidentifier=\"97926 https://daphnecaruanagalizia.com/?p=97926\">Read (15)</span></a> | <span class=\"time\">Friday, 13 October 4:46 pm</span></p>\n",
       " </div>\n",
       " </div>, <div class=\"postmaster\" data-postid=\"97923\">\n",
       " <p class=\"column-caption\"></p>\n",
       " <div class=\"post\">\n",
       " <h1><a href=\"https://daphnecaruanagalizia.com/2017/10/nationalist-party-deputy-leadership-contender-compares-politics-football-match/\" rel=\"bookmark\" title=\"Permanent Link to Nationalist Party deputy leadership contender compares politics to a football match\">\n",
       " Nationalist Party deputy leadership contender compares politics to a football match </a>\n",
       " </h1>\n",
       " <div class=\"entry\">\n",
       " <p>\n",
       " Yesterday in the car I was listening to the lunchtime talk-show on the Nationalist Party’s …</p>\n",
       " </div>\n",
       " <p class=\"postmetadata\"><a href=\"https://daphnecaruanagalizia.com/2017/10/nationalist-party-deputy-leadership-contender-compares-politics-football-match/#respond\">Post a comment</a> | <a href=\"https://daphnecaruanagalizia.com/2017/10/nationalist-party-deputy-leadership-contender-compares-politics-football-match/#comments\"><span class=\"dsq-postid\" data-dsqidentifier=\"97923 https://daphnecaruanagalizia.com/?p=97923\">Read (16)</span></a> | <span class=\"time\">Friday, 13 October 12:45 pm</span></p>\n",
       " </div>\n",
       " </div>, <div class=\"postmaster\" data-postid=\"97909\">\n",
       " <p class=\"column-caption\"></p>\n",
       " <div class=\"post\">\n",
       " <h1><a href=\"https://daphnecaruanagalizia.com/2017/10/opposition-leaders-wife-says-convicted-drug-dealers-girlfriend-one-closest-trusted-friends-drug-dealers-girlfriend-says-opposition-leaders-wife-close-friends-like/\" rel=\"bookmark\" title=\"Permanent Link to Opposition leader’s wife says convicted drug dealer’s girlfriend is “one of my closest and most trusted friends”; drug-dealer’s girlfriend says she and Opposition leader’s wife are “close friends like sisters”\">\n",
       " Opposition leader’s wife says convicted drug dealer’s girlfriend is “one of my closest and most t... </a>\n",
       " </h1>\n",
       " <div class=\"entry\">\n",
       " <p>\n",
       " In an interview with The Malta Independent last Sunday, Mrs Delia – the Opposition leader’s …</p>\n",
       " </div>\n",
       " <p class=\"postmetadata\"><a href=\"https://daphnecaruanagalizia.com/2017/10/opposition-leaders-wife-says-convicted-drug-dealers-girlfriend-one-closest-trusted-friends-drug-dealers-girlfriend-says-opposition-leaders-wife-close-friends-like/#respond\">Post a comment</a> | <a href=\"https://daphnecaruanagalizia.com/2017/10/opposition-leaders-wife-says-convicted-drug-dealers-girlfriend-one-closest-trusted-friends-drug-dealers-girlfriend-says-opposition-leaders-wife-close-friends-like/#comments\"><span class=\"dsq-postid\" data-dsqidentifier=\"97909 https://daphnecaruanagalizia.com/?p=97909\">Read (31)</span></a> | <span class=\"time\">Thursday, 12 October 8:45 pm</span></p>\n",
       " </div>\n",
       " </div>, <div class=\"postmaster\" data-postid=\"97906\">\n",
       " <p class=\"column-caption\"></p>\n",
       " <div class=\"post\">\n",
       " <h1><a href=\"https://daphnecaruanagalizia.com/2017/10/no-not-real-tweet-good/\" rel=\"bookmark\" title=\"Permanent Link to No, this is not a real tweet – but it’s as good as\">\n",
       " No, this is not a real tweet – but it’s as good as </a>\n",
       " </h1>\n",
       " <div class=\"entry\">\n",
       " <p>\n",
       " …</p>\n",
       " </div>\n",
       " <p class=\"postmetadata\"><a href=\"https://daphnecaruanagalizia.com/2017/10/no-not-real-tweet-good/#respond\">Post a comment</a> | <a href=\"https://daphnecaruanagalizia.com/2017/10/no-not-real-tweet-good/#comments\"><span class=\"dsq-postid\" data-dsqidentifier=\"97906 https://daphnecaruanagalizia.com/?p=97906\">Read (4)</span></a> | <span class=\"time\">Thursday, 12 October 7:21 pm</span></p>\n",
       " </div>\n",
       " </div>, <div class=\"postmaster\" data-postid=\"97897\">\n",
       " <p class=\"column-caption\"></p>\n",
       " <div class=\"post\">\n",
       " <h1><a href=\"https://daphnecaruanagalizia.com/2017/10/listening-people-opposition-leaders-wife-spends-much-10-weeks-state-pension-outfit-swearing-ceremony/\" rel=\"bookmark\" title=\"Permanent Link to ‘Listening to the people’: Opposition leader’s wife spends as much as 10 weeks state pension on outfit for swearing-in ceremony\">\n",
       " ‘Listening to the people’: Opposition leader’s wife spends as much as 10 weeks state pension on o... </a>\n",
       " </h1>\n",
       " <div class=\"entry\">\n",
       " <p>\n",
       " The outfit which Mrs Adrian Delia wore to watch her husband sworn in as Opposition …</p>\n",
       " </div>\n",
       " <p class=\"postmetadata\"><a href=\"https://daphnecaruanagalizia.com/2017/10/listening-people-opposition-leaders-wife-spends-much-10-weeks-state-pension-outfit-swearing-ceremony/#respond\">Post a comment</a> | <a href=\"https://daphnecaruanagalizia.com/2017/10/listening-people-opposition-leaders-wife-spends-much-10-weeks-state-pension-outfit-swearing-ceremony/#comments\"><span class=\"dsq-postid\" data-dsqidentifier=\"97897 https://daphnecaruanagalizia.com/?p=97897\">Read (18)</span></a> | <span class=\"time\">Thursday, 12 October 6:53 pm</span></p>\n",
       " </div>\n",
       " </div>]"
      ]
     },
     "execution_count": 7,
     "metadata": {},
     "output_type": "execute_result"
    }
   ],
   "source": [
    "posts"
   ]
  },
  {
   "cell_type": "code",
   "execution_count": 8,
   "metadata": {},
   "outputs": [
    {
     "data": {
      "text/plain": [
       "<div class=\"postmaster\" data-postid=\"97964\">\n",
       "<p class=\"column-caption\"></p>\n",
       "<div class=\"post\">\n",
       "<h1><a href=\"https://daphnecaruanagalizia.com/2017/10/first-things-first-something-horrendous-posture/\" rel=\"bookmark\" title=\"Permanent Link to First things first: do something about that horrendous posture\">\n",
       "First things first: do something about that horrendous posture </a>\n",
       "</h1>\n",
       "<div class=\"entry\">\n",
       "<p>\n",
       "You can wear the flashiest watch and keep your snazzy shirt-cuff turned up to make …</p>\n",
       "</div>\n",
       "<p class=\"postmetadata\"><a href=\"https://daphnecaruanagalizia.com/2017/10/first-things-first-something-horrendous-posture/#respond\">Post a comment</a> | <a href=\"https://daphnecaruanagalizia.com/2017/10/first-things-first-something-horrendous-posture/#comments\"><span class=\"dsq-postid\" data-dsqidentifier=\"97964 https://daphnecaruanagalizia.com/?p=97964\">Read (4)</span></a> | <span class=\"time\">Monday, 16 October 2:09 pm</span></p>\n",
       "</div>\n",
       "</div>"
      ]
     },
     "execution_count": 8,
     "metadata": {},
     "output_type": "execute_result"
    }
   ],
   "source": [
    "#Lets just look at in the list, to see which information we need.\n",
    "posts[0]"
   ]
  },
  {
   "cell_type": "code",
   "execution_count": 9,
   "metadata": {},
   "outputs": [
    {
     "data": {
      "text/plain": [
       "<a href=\"https://daphnecaruanagalizia.com/2017/10/first-things-first-something-horrendous-posture/\" rel=\"bookmark\" title=\"Permanent Link to First things first: do something about that horrendous posture\">\n",
       "First things first: do something about that horrendous posture </a>"
      ]
     },
     "execution_count": 9,
     "metadata": {},
     "output_type": "execute_result"
    }
   ],
   "source": [
    "posts[0].find('a')"
   ]
  },
  {
   "cell_type": "code",
   "execution_count": 10,
   "metadata": {},
   "outputs": [
    {
     "data": {
      "text/plain": [
       "'https://daphnecaruanagalizia.com/2017/10/first-things-first-something-horrendous-posture/'"
      ]
     },
     "execution_count": 10,
     "metadata": {},
     "output_type": "execute_result"
    }
   ],
   "source": [
    "posts[0].find('a')['href']"
   ]
  },
  {
   "cell_type": "code",
   "execution_count": 11,
   "metadata": {},
   "outputs": [
    {
     "data": {
      "text/plain": [
       "<span class=\"dsq-postid\" data-dsqidentifier=\"97964 https://daphnecaruanagalizia.com/?p=97964\">Read (4)</span>"
      ]
     },
     "execution_count": 11,
     "metadata": {},
     "output_type": "execute_result"
    }
   ],
   "source": [
    "posts[0].find('span')"
   ]
  },
  {
   "cell_type": "code",
   "execution_count": 27,
   "metadata": {},
   "outputs": [
    {
     "data": {
      "text/plain": [
       "<span class=\"time\">Monday, 16 October 2:09 pm</span>"
      ]
     },
     "execution_count": 27,
     "metadata": {},
     "output_type": "execute_result"
    }
   ],
   "source": [
    "posts[0].find_all('span')[1]"
   ]
  },
  {
   "cell_type": "code",
   "execution_count": 27,
   "metadata": {},
   "outputs": [
    {
     "data": {
      "text/plain": [
       "'Monday, 16 October 2:09 pm'"
      ]
     },
     "execution_count": 27,
     "metadata": {},
     "output_type": "execute_result"
    }
   ],
   "source": [
    "posts[0].find('span', {'class':'time'}).text"
   ]
  },
  {
   "cell_type": "markdown",
   "metadata": {},
   "source": [
    "# Looping"
   ]
  },
  {
   "cell_type": "code",
   "execution_count": 25,
   "metadata": {},
   "outputs": [
    {
     "name": "stdout",
     "output_type": "stream",
     "text": [
      "https://daphnecaruanagalizia.com/2017/10/first-things-first-something-horrendous-posture/\n",
      "https://daphnecaruanagalizia.com/2017/10/austrias-new-chancellor-31-will-form-coalition-neo-nazi/\n",
      "https://daphnecaruanagalizia.com/2017/10/party-leaders-sunday-morning/\n",
      "https://daphnecaruanagalizia.com/2017/10/looks-like-delia-surrounding-like-minded-individuals/\n",
      "https://daphnecaruanagalizia.com/2017/10/chris-cardona-one-track-mind/\n",
      "https://daphnecaruanagalizia.com/2017/10/david-thake-subject-adrian-delia/\n",
      "https://daphnecaruanagalizia.com/2017/10/not-blinded-little-intelligence-much-personal-ambition-reality/\n",
      "https://daphnecaruanagalizia.com/2017/10/toni-bezzina-throws-hat-ring-two-minutes-deadline/\n",
      "https://daphnecaruanagalizia.com/2017/10/chris-said-just-made-public-statement-deputy-leadership-election/\n",
      "https://daphnecaruanagalizia.com/2017/10/chris-said-says-will-not-stand-election-nationalist-party-deputy-leader/\n",
      "https://daphnecaruanagalizia.com/2017/10/nationalist-party-deputy-leadership-contender-compares-politics-football-match/\n",
      "https://daphnecaruanagalizia.com/2017/10/opposition-leaders-wife-says-convicted-drug-dealers-girlfriend-one-closest-trusted-friends-drug-dealers-girlfriend-says-opposition-leaders-wife-close-friends-like/\n",
      "https://daphnecaruanagalizia.com/2017/10/no-not-real-tweet-good/\n",
      "https://daphnecaruanagalizia.com/2017/10/listening-people-opposition-leaders-wife-spends-much-10-weeks-state-pension-outfit-swearing-ceremony/\n"
     ]
    }
   ],
   "source": [
    "#Now lets look at the whole lists and using a for loop extract only the \n",
    "for elem in posts:\n",
    "    #First the URL\n",
    "    print(elem.find('a')['href'])"
   ]
  },
  {
   "cell_type": "code",
   "execution_count": 28,
   "metadata": {},
   "outputs": [
    {
     "name": "stdout",
     "output_type": "stream",
     "text": [
      "Monday, 16 October 2:09 pm\n",
      "Sunday, 15 October 10:07 pm\n",
      "Sunday, 15 October 7:26 pm\n",
      "Saturday, 14 October 12:52 am\n",
      "Saturday, 14 October 12:26 am\n",
      "Friday, 13 October 11:20 pm\n",
      "Friday, 13 October 6:29 pm\n",
      "Friday, 13 October 6:19 pm\n",
      "Friday, 13 October 5:22 pm\n",
      "Friday, 13 October 4:46 pm\n",
      "Friday, 13 October 12:45 pm\n",
      "Thursday, 12 October 8:45 pm\n",
      "Thursday, 12 October 7:21 pm\n",
      "Thursday, 12 October 6:53 pm\n"
     ]
    }
   ],
   "source": [
    "#Now the time\n",
    "for elem in posts:\n",
    "    #First the URL\n",
    "    print(elem.find('span', {'class':'time'}).text)"
   ]
  },
  {
   "cell_type": "code",
   "execution_count": 29,
   "metadata": {
    "collapsed": true
   },
   "outputs": [],
   "source": [
    "#Saving them into a list\n",
    "lst = []\n",
    "for elem in posts:\n",
    "    \n",
    "    url = elem.find('a')['href']\n",
    "    date = elem.find('span', {'class':'time'}).text\n",
    "    \n",
    "    mini_dict = {'URL': url,\n",
    "                 'Date': date}\n",
    "    \n",
    "    lst.append(mini_dict)"
   ]
  },
  {
   "cell_type": "markdown",
   "metadata": {},
   "source": [
    "# Making it Human Readable"
   ]
  },
  {
   "cell_type": "code",
   "execution_count": 30,
   "metadata": {},
   "outputs": [
    {
     "data": {
      "text/html": [
       "<div>\n",
       "<style scoped>\n",
       "    .dataframe tbody tr th:only-of-type {\n",
       "        vertical-align: middle;\n",
       "    }\n",
       "\n",
       "    .dataframe tbody tr th {\n",
       "        vertical-align: top;\n",
       "    }\n",
       "\n",
       "    .dataframe thead th {\n",
       "        text-align: right;\n",
       "    }\n",
       "</style>\n",
       "<table border=\"1\" class=\"dataframe\">\n",
       "  <thead>\n",
       "    <tr style=\"text-align: right;\">\n",
       "      <th></th>\n",
       "      <th>Date</th>\n",
       "      <th>URL</th>\n",
       "    </tr>\n",
       "  </thead>\n",
       "  <tbody>\n",
       "    <tr>\n",
       "      <th>0</th>\n",
       "      <td>Monday, 16 October 2:09 pm</td>\n",
       "      <td>https://daphnecaruanagalizia.com/2017/10/first...</td>\n",
       "    </tr>\n",
       "    <tr>\n",
       "      <th>1</th>\n",
       "      <td>Sunday, 15 October 10:07 pm</td>\n",
       "      <td>https://daphnecaruanagalizia.com/2017/10/austr...</td>\n",
       "    </tr>\n",
       "    <tr>\n",
       "      <th>2</th>\n",
       "      <td>Sunday, 15 October 7:26 pm</td>\n",
       "      <td>https://daphnecaruanagalizia.com/2017/10/party...</td>\n",
       "    </tr>\n",
       "    <tr>\n",
       "      <th>3</th>\n",
       "      <td>Saturday, 14 October 12:52 am</td>\n",
       "      <td>https://daphnecaruanagalizia.com/2017/10/looks...</td>\n",
       "    </tr>\n",
       "    <tr>\n",
       "      <th>4</th>\n",
       "      <td>Saturday, 14 October 12:26 am</td>\n",
       "      <td>https://daphnecaruanagalizia.com/2017/10/chris...</td>\n",
       "    </tr>\n",
       "    <tr>\n",
       "      <th>5</th>\n",
       "      <td>Friday, 13 October 11:20 pm</td>\n",
       "      <td>https://daphnecaruanagalizia.com/2017/10/david...</td>\n",
       "    </tr>\n",
       "    <tr>\n",
       "      <th>6</th>\n",
       "      <td>Friday, 13 October 6:29 pm</td>\n",
       "      <td>https://daphnecaruanagalizia.com/2017/10/not-b...</td>\n",
       "    </tr>\n",
       "    <tr>\n",
       "      <th>7</th>\n",
       "      <td>Friday, 13 October 6:19 pm</td>\n",
       "      <td>https://daphnecaruanagalizia.com/2017/10/toni-...</td>\n",
       "    </tr>\n",
       "    <tr>\n",
       "      <th>8</th>\n",
       "      <td>Friday, 13 October 5:22 pm</td>\n",
       "      <td>https://daphnecaruanagalizia.com/2017/10/chris...</td>\n",
       "    </tr>\n",
       "    <tr>\n",
       "      <th>9</th>\n",
       "      <td>Friday, 13 October 4:46 pm</td>\n",
       "      <td>https://daphnecaruanagalizia.com/2017/10/chris...</td>\n",
       "    </tr>\n",
       "    <tr>\n",
       "      <th>10</th>\n",
       "      <td>Friday, 13 October 12:45 pm</td>\n",
       "      <td>https://daphnecaruanagalizia.com/2017/10/natio...</td>\n",
       "    </tr>\n",
       "    <tr>\n",
       "      <th>11</th>\n",
       "      <td>Thursday, 12 October 8:45 pm</td>\n",
       "      <td>https://daphnecaruanagalizia.com/2017/10/oppos...</td>\n",
       "    </tr>\n",
       "    <tr>\n",
       "      <th>12</th>\n",
       "      <td>Thursday, 12 October 7:21 pm</td>\n",
       "      <td>https://daphnecaruanagalizia.com/2017/10/no-no...</td>\n",
       "    </tr>\n",
       "    <tr>\n",
       "      <th>13</th>\n",
       "      <td>Thursday, 12 October 6:53 pm</td>\n",
       "      <td>https://daphnecaruanagalizia.com/2017/10/liste...</td>\n",
       "    </tr>\n",
       "  </tbody>\n",
       "</table>\n",
       "</div>"
      ],
      "text/plain": [
       "                             Date  \\\n",
       "0      Monday, 16 October 2:09 pm   \n",
       "1     Sunday, 15 October 10:07 pm   \n",
       "2      Sunday, 15 October 7:26 pm   \n",
       "3   Saturday, 14 October 12:52 am   \n",
       "4   Saturday, 14 October 12:26 am   \n",
       "5     Friday, 13 October 11:20 pm   \n",
       "6      Friday, 13 October 6:29 pm   \n",
       "7      Friday, 13 October 6:19 pm   \n",
       "8      Friday, 13 October 5:22 pm   \n",
       "9      Friday, 13 October 4:46 pm   \n",
       "10    Friday, 13 October 12:45 pm   \n",
       "11   Thursday, 12 October 8:45 pm   \n",
       "12   Thursday, 12 October 7:21 pm   \n",
       "13   Thursday, 12 October 6:53 pm   \n",
       "\n",
       "                                                  URL  \n",
       "0   https://daphnecaruanagalizia.com/2017/10/first...  \n",
       "1   https://daphnecaruanagalizia.com/2017/10/austr...  \n",
       "2   https://daphnecaruanagalizia.com/2017/10/party...  \n",
       "3   https://daphnecaruanagalizia.com/2017/10/looks...  \n",
       "4   https://daphnecaruanagalizia.com/2017/10/chris...  \n",
       "5   https://daphnecaruanagalizia.com/2017/10/david...  \n",
       "6   https://daphnecaruanagalizia.com/2017/10/not-b...  \n",
       "7   https://daphnecaruanagalizia.com/2017/10/toni-...  \n",
       "8   https://daphnecaruanagalizia.com/2017/10/chris...  \n",
       "9   https://daphnecaruanagalizia.com/2017/10/chris...  \n",
       "10  https://daphnecaruanagalizia.com/2017/10/natio...  \n",
       "11  https://daphnecaruanagalizia.com/2017/10/oppos...  \n",
       "12  https://daphnecaruanagalizia.com/2017/10/no-no...  \n",
       "13  https://daphnecaruanagalizia.com/2017/10/liste...  "
      ]
     },
     "execution_count": 30,
     "metadata": {},
     "output_type": "execute_result"
    }
   ],
   "source": [
    "#And now we'll bring in Pandas and make it readable for us humans\n",
    "pd.DataFrame(lst)"
   ]
  },
  {
   "cell_type": "code",
   "execution_count": 32,
   "metadata": {
    "collapsed": true
   },
   "outputs": [],
   "source": [
    "#Lets save it off\n",
    "df = pd.DataFrame(lst)\n",
    "df.to_csv('d/date_urls.csv')"
   ]
  },
  {
   "cell_type": "markdown",
   "metadata": {},
   "source": [
    "# Lets get all the URLs"
   ]
  },
  {
   "cell_type": "code",
   "execution_count": 33,
   "metadata": {
    "collapsed": true
   },
   "outputs": [],
   "source": [
    "# Examine the URL and the next page\n",
    "url = \"https://daphnecaruanagalizia.com/page/2/\" #all the way to 1441\n",
    "response = requests.get(url)\n",
    "daphne = BeautifulSoup(response.text, 'html.parser')"
   ]
  },
  {
   "cell_type": "code",
   "execution_count": null,
   "metadata": {
    "collapsed": true
   },
   "outputs": [],
   "source": [
    "# How to loop through all the pages?\n",
    "whole_list = []\n",
    "\n",
    "for elem range(1441):\n",
    "    url = \"https://daphnecaruanagalizia.com/page/\" + str(elem)\n",
    "    response = requests.get(url)\n",
    "    daphne = BeautifulSoup(response.text, 'html.parser')"
   ]
  },
  {
   "cell_type": "code",
   "execution_count": null,
   "metadata": {
    "collapsed": true
   },
   "outputs": [],
   "source": [
    "# Now we need to tell the page to pull out everything everytime step of the loop\n",
    "\n",
    "whole_list = []\n",
    "\n",
    "for elem in range(1441):\n",
    "    url = \"https://daphnecaruanagalizia.com/page/\" + str(elem)\n",
    "    response = requests.get(url)\n",
    "    daphne = BeautifulSoup(response.text, 'html.parser')\n",
    "    \n",
    "    ###### this is what we did before #####\n",
    "    lst = [] \n",
    "    for elem in posts:\n",
    "    \n",
    "        url = elem.find('a')['href']\n",
    "        date = elem.find('span', {'class':'time'}).text\n",
    "        mini_dict = {'URL': url,\n",
    "                 'Date': date}\n",
    "        lst.append(mini_dict)\n",
    "    ###### this is what we did before #####\n",
    "        \n",
    "    whole_list += lst"
   ]
  },
  {
   "cell_type": "code",
   "execution_count": null,
   "metadata": {
    "collapsed": true
   },
   "outputs": [],
   "source": [
    "df = pd.DataFrame(whole_list)"
   ]
  },
  {
   "cell_type": "markdown",
   "metadata": {},
   "source": [
    "# Next steps?\n",
    "1. Create the entire dataframe\n",
    "2. Use the URL to visit each page\n",
    "3. Create a new dataframe with the entire text"
   ]
  },
  {
   "cell_type": "code",
   "execution_count": null,
   "metadata": {
    "collapsed": true
   },
   "outputs": [],
   "source": []
  }
 ],
 "metadata": {
  "kernelspec": {
   "display_name": "Python 3",
   "language": "python",
   "name": "python3"
  },
  "language_info": {
   "codemirror_mode": {
    "name": "ipython",
    "version": 3
   },
   "file_extension": ".py",
   "mimetype": "text/x-python",
   "name": "python",
   "nbconvert_exporter": "python",
   "pygments_lexer": "ipython3",
   "version": "3.5.1"
  }
 },
 "nbformat": 4,
 "nbformat_minor": 2
}
